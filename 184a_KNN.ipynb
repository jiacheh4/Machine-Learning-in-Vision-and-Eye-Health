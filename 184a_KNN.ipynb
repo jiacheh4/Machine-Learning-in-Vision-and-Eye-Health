{
 "cells": [
  {
   "cell_type": "code",
   "execution_count": 1,
   "metadata": {},
   "outputs": [],
   "source": [
    "import numpy as np\n",
    "np.random.seed(0)\n",
    "import mltools as ml\n",
    "import matplotlib.pyplot as plt"
   ]
  },
  {
   "cell_type": "markdown",
   "metadata": {},
   "source": [
    "# Processing the Data"
   ]
  },
  {
   "cell_type": "code",
   "execution_count": 2,
   "metadata": {},
   "outputs": [],
   "source": [
    "import csv\n",
    "Xtr = []\n",
    "Ytr = []\n",
    "check = []\n",
    "with open(\"C:\\\\Users\\\\gtgst\\\\Downloads\\\\newEyeData.csv\", \"r\") as f:\n",
    "    reader = csv.reader(f)\n",
    "    i = next(reader)\n",
    "    \n",
    "    for row in reader:\n",
    "        if(row[0] != \"\"):\n",
    "            Ytr.append(int(float(row[0])))\n",
    "        for item in range(1, len(row)):\n",
    "            if(row[0] != \"\"):\n",
    "\n",
    "                check.append(int(row[item]))\n",
    "\n",
    "        if(check != []):\n",
    "            Xtr.append(check)\n",
    "\n",
    "        check = []\n",
    "\n",
    "        "
   ]
  },
  {
   "cell_type": "markdown",
   "metadata": {},
   "source": [
    "# Splitting the data into training and validation"
   ]
  },
  {
   "cell_type": "code",
   "execution_count": 3,
   "metadata": {},
   "outputs": [],
   "source": [
    "Xva = Xtr[41343:55125]\n",
    "Yva = Ytr[41343:55125]\n",
    "Xtr = Xtr[0:41342]\n",
    "Ytr = Ytr[0:41342]\n"
   ]
  },
  {
   "cell_type": "markdown",
   "metadata": {},
   "source": [
    "# Performing KNN on the data with K = 1,2,5,10,50,100,200.  The best KNN seemed to be around 200 judging from the chart below but overall the performance was very poor which is why we decided to do linear regression instead."
   ]
  },
  {
   "cell_type": "code",
   "execution_count": 5,
   "metadata": {},
   "outputs": [
    {
     "data": {
      "text/plain": [
       "KNeighborsClassifier(algorithm='auto', leaf_size=30, metric='minkowski',\n",
       "                     metric_params=None, n_jobs=None, n_neighbors=50, p=2,\n",
       "                     weights='uniform')"
      ]
     },
     "execution_count": 5,
     "metadata": {},
     "output_type": "execute_result"
    }
   ],
   "source": [
    "from sklearn.neighbors import KNeighborsClassifier\n",
    "neigh = KNeighborsClassifier(n_neighbors=50)\n",
    "neigh.fit(Xtr, Ytr) \n",
    "\n"
   ]
  },
  {
   "cell_type": "code",
   "execution_count": 18,
   "metadata": {},
   "outputs": [
    {
     "data": {
      "text/plain": [
       "[<matplotlib.lines.Line2D at 0x27396bbadd8>]"
      ]
     },
     "execution_count": 18,
     "metadata": {},
     "output_type": "execute_result"
    },
    {
     "data": {
      "image/png": "[encoded data removed]",
      "text/plain": [
       "<Figure size 432x288 with 1 Axes>"
      ]
     },
     "metadata": {
      "needs_background": "light"
     },
     "output_type": "display_data"
    }
   ],
   "source": [
    "from sklearn.neighbors import KNeighborsClassifier\n",
    "\n",
    "K=[1,2,5,10,50,100,200];\n",
    "errTrain = [None]*len(K)\n",
    "errVal = [None]*len(K)\n",
    "Yhat = []\n",
    "Yvahat = []\n",
    "\n",
    "for index, k in enumerate(K):\n",
    "    neigh = KNeighborsClassifier(n_neighbors=k)\n",
    "    neigh.fit(Xtr, Ytr) \n",
    "    \n",
    "    for i in range(len(Xtr)):\n",
    "        Yhat.append(neigh.predict([Xtr[i]])[0])\n",
    "\n",
    "    errTrain[index]= sum(np.subtract(x1, x2)**2 for (x1, x2) in zip(Ytr, Yhat))/(len(Ytr)+len(Yhat))\n",
    "\n",
    "    neigh = KNeighborsClassifier(n_neighbors=k)\n",
    "    neigh.fit(Xva, Yva)\n",
    "    \n",
    "    for i in range(len(Xva)):\n",
    "        Yvahat.append(neigh.predict([Xva[i]])[0])\n",
    "\n",
    "    errVal[index] = sum(np.subtract(x1, x2)**2 for (x1, x2) in zip(Yva, Yvahat))/(len(Yva)+len(Yvahat))\n",
    "    Yvahat = []\n",
    "    Yhat = []\n",
    "\n",
    "    \n",
    "plt.semilogx(K, errTrain, 'r-', label='Training')\n",
    "plt.semilogx(K, errVal, 'g-', label='Validation')\n",
    "\n"
   ]
  }
 ],
 "metadata": {
  "kernelspec": {
   "display_name": "Python 3",
   "language": "python",
   "name": "python3"
  },
  "language_info": {
   "codemirror_mode": {
    "name": "ipython",
    "version": 3
   },
   "file_extension": ".py",
   "mimetype": "text/x-python",
   "name": "python",
   "nbconvert_exporter": "python",
   "pygments_lexer": "ipython3",
   "version": "3.6.4"
  }
 },
 "nbformat": 4,
 "nbformat_minor": 2
}
